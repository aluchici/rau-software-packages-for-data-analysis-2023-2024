{
  "nbformat": 4,
  "nbformat_minor": 0,
  "metadata": {
    "colab": {
      "provenance": []
    },
    "kernelspec": {
      "name": "python3",
      "display_name": "Python 3"
    },
    "language_info": {
      "name": "python"
    }
  },
  "cells": [
    {
      "cell_type": "code",
      "execution_count": null,
      "metadata": {
        "id": "ZoDsvVSqCkS0"
      },
      "outputs": [],
      "source": [
        "import numpy as np\n",
        "import pandas as pd\n",
        "import matplotlib.pyplot as plt"
      ]
    },
    {
      "cell_type": "code",
      "source": [
        "df = pd.read_csv(\"Spotify_Dataset_V3.csv\", sep=\";\")\n",
        "df.head()"
      ],
      "metadata": {
        "colab": {
          "base_uri": "https://localhost:8080/",
          "height": 504
        },
        "id": "vzcw9ax1Cr-l",
        "outputId": "0ca4b7fd-4a5c-4c93-81d4-5d438468a2ed"
      },
      "execution_count": null,
      "outputs": [
        {
          "output_type": "execute_result",
          "data": {
            "text/plain": [
              "   Rank            Title                     Artists        Date  \\\n",
              "0     1  Ella Baila Sola  Eslabon Armado, Peso Pluma  29/05/2023   \n",
              "1     1  Ella Baila Sola  Eslabon Armado, Peso Pluma  29/05/2023   \n",
              "2     2   WHERE SHE GOES                   Bad Bunny  29/05/2023   \n",
              "3     3  La Bebe - Remix       Yng Lvcas, Peso Pluma  29/05/2023   \n",
              "4     3  La Bebe - Remix       Yng Lvcas, Peso Pluma  29/05/2023   \n",
              "\n",
              "   Danceability  Energy  Loudness  Speechiness  Acousticness  \\\n",
              "0         0.668   0.758   -5176.0        0.033         0.483   \n",
              "1         0.668   0.758   -5176.0        0.033         0.483   \n",
              "2         0.652   0.800   -4019.0        0.061         0.143   \n",
              "3         0.812   0.479   -5678.0        0.333         0.213   \n",
              "4         0.812   0.479   -5678.0        0.333         0.213   \n",
              "\n",
              "   Instrumentalness  Valence # of Artist   Artist (Ind.) # of Nationality  \\\n",
              "0             0.000    0.834    Artist 1  Eslabon Armado    Nationality 1   \n",
              "1             0.000    0.834    Artist 2      Peso Pluma    Nationality 2   \n",
              "2             0.629    0.234    Artist 1       Bad Bunny    Nationality 1   \n",
              "3             0.000    0.559    Artist 1       Yng Lvcas    Nationality 1   \n",
              "4             0.000    0.559    Artist 2      Peso Pluma    Nationality 2   \n",
              "\n",
              "   Nationality      Continent  Points (Total)  \\\n",
              "0       Mexico  Latin-America             200   \n",
              "1       Mexico  Latin-America             200   \n",
              "2  Puerto Rico  Latin-America             199   \n",
              "3       Mexico  Latin-America             198   \n",
              "4       Mexico  Latin-America             198   \n",
              "\n",
              "   Points (Ind for each Artist/Nat)                      id  \\\n",
              "0                             100.0  3qQbCzHBycnDpGskqOWY0E   \n",
              "1                             100.0  3qQbCzHBycnDpGskqOWY0E   \n",
              "2                             199.0  7ro0hRteUMfnOioTFI5TG1   \n",
              "3                              99.0  2UW7JaomAMuX9pZrjVpHAU   \n",
              "4                              99.0  2UW7JaomAMuX9pZrjVpHAU   \n",
              "\n",
              "                                            Song URL  \n",
              "0  https://open.spotify.com/track/3qQbCzHBycnDpGs...  \n",
              "1  https://open.spotify.com/track/3qQbCzHBycnDpGs...  \n",
              "2  https://open.spotify.com/track/7ro0hRteUMfnOio...  \n",
              "3  https://open.spotify.com/track/2UW7JaomAMuX9pZ...  \n",
              "4  https://open.spotify.com/track/2UW7JaomAMuX9pZ...  "
            ],
            "text/html": [
              "\n",
              "  <div id=\"df-8ca6896d-ae7c-4388-845c-3f676b74f601\" class=\"colab-df-container\">\n",
              "    <div>\n",
              "<style scoped>\n",
              "    .dataframe tbody tr th:only-of-type {\n",
              "        vertical-align: middle;\n",
              "    }\n",
              "\n",
              "    .dataframe tbody tr th {\n",
              "        vertical-align: top;\n",
              "    }\n",
              "\n",
              "    .dataframe thead th {\n",
              "        text-align: right;\n",
              "    }\n",
              "</style>\n",
              "<table border=\"1\" class=\"dataframe\">\n",
              "  <thead>\n",
              "    <tr style=\"text-align: right;\">\n",
              "      <th></th>\n",
              "      <th>Rank</th>\n",
              "      <th>Title</th>\n",
              "      <th>Artists</th>\n",
              "      <th>Date</th>\n",
              "      <th>Danceability</th>\n",
              "      <th>Energy</th>\n",
              "      <th>Loudness</th>\n",
              "      <th>Speechiness</th>\n",
              "      <th>Acousticness</th>\n",
              "      <th>Instrumentalness</th>\n",
              "      <th>Valence</th>\n",
              "      <th># of Artist</th>\n",
              "      <th>Artist (Ind.)</th>\n",
              "      <th># of Nationality</th>\n",
              "      <th>Nationality</th>\n",
              "      <th>Continent</th>\n",
              "      <th>Points (Total)</th>\n",
              "      <th>Points (Ind for each Artist/Nat)</th>\n",
              "      <th>id</th>\n",
              "      <th>Song URL</th>\n",
              "    </tr>\n",
              "  </thead>\n",
              "  <tbody>\n",
              "    <tr>\n",
              "      <th>0</th>\n",
              "      <td>1</td>\n",
              "      <td>Ella Baila Sola</td>\n",
              "      <td>Eslabon Armado, Peso Pluma</td>\n",
              "      <td>29/05/2023</td>\n",
              "      <td>0.668</td>\n",
              "      <td>0.758</td>\n",
              "      <td>-5176.0</td>\n",
              "      <td>0.033</td>\n",
              "      <td>0.483</td>\n",
              "      <td>0.000</td>\n",
              "      <td>0.834</td>\n",
              "      <td>Artist 1</td>\n",
              "      <td>Eslabon Armado</td>\n",
              "      <td>Nationality 1</td>\n",
              "      <td>Mexico</td>\n",
              "      <td>Latin-America</td>\n",
              "      <td>200</td>\n",
              "      <td>100.0</td>\n",
              "      <td>3qQbCzHBycnDpGskqOWY0E</td>\n",
              "      <td>https://open.spotify.com/track/3qQbCzHBycnDpGs...</td>\n",
              "    </tr>\n",
              "    <tr>\n",
              "      <th>1</th>\n",
              "      <td>1</td>\n",
              "      <td>Ella Baila Sola</td>\n",
              "      <td>Eslabon Armado, Peso Pluma</td>\n",
              "      <td>29/05/2023</td>\n",
              "      <td>0.668</td>\n",
              "      <td>0.758</td>\n",
              "      <td>-5176.0</td>\n",
              "      <td>0.033</td>\n",
              "      <td>0.483</td>\n",
              "      <td>0.000</td>\n",
              "      <td>0.834</td>\n",
              "      <td>Artist 2</td>\n",
              "      <td>Peso Pluma</td>\n",
              "      <td>Nationality 2</td>\n",
              "      <td>Mexico</td>\n",
              "      <td>Latin-America</td>\n",
              "      <td>200</td>\n",
              "      <td>100.0</td>\n",
              "      <td>3qQbCzHBycnDpGskqOWY0E</td>\n",
              "      <td>https://open.spotify.com/track/3qQbCzHBycnDpGs...</td>\n",
              "    </tr>\n",
              "    <tr>\n",
              "      <th>2</th>\n",
              "      <td>2</td>\n",
              "      <td>WHERE SHE GOES</td>\n",
              "      <td>Bad Bunny</td>\n",
              "      <td>29/05/2023</td>\n",
              "      <td>0.652</td>\n",
              "      <td>0.800</td>\n",
              "      <td>-4019.0</td>\n",
              "      <td>0.061</td>\n",
              "      <td>0.143</td>\n",
              "      <td>0.629</td>\n",
              "      <td>0.234</td>\n",
              "      <td>Artist 1</td>\n",
              "      <td>Bad Bunny</td>\n",
              "      <td>Nationality 1</td>\n",
              "      <td>Puerto Rico</td>\n",
              "      <td>Latin-America</td>\n",
              "      <td>199</td>\n",
              "      <td>199.0</td>\n",
              "      <td>7ro0hRteUMfnOioTFI5TG1</td>\n",
              "      <td>https://open.spotify.com/track/7ro0hRteUMfnOio...</td>\n",
              "    </tr>\n",
              "    <tr>\n",
              "      <th>3</th>\n",
              "      <td>3</td>\n",
              "      <td>La Bebe - Remix</td>\n",
              "      <td>Yng Lvcas, Peso Pluma</td>\n",
              "      <td>29/05/2023</td>\n",
              "      <td>0.812</td>\n",
              "      <td>0.479</td>\n",
              "      <td>-5678.0</td>\n",
              "      <td>0.333</td>\n",
              "      <td>0.213</td>\n",
              "      <td>0.000</td>\n",
              "      <td>0.559</td>\n",
              "      <td>Artist 1</td>\n",
              "      <td>Yng Lvcas</td>\n",
              "      <td>Nationality 1</td>\n",
              "      <td>Mexico</td>\n",
              "      <td>Latin-America</td>\n",
              "      <td>198</td>\n",
              "      <td>99.0</td>\n",
              "      <td>2UW7JaomAMuX9pZrjVpHAU</td>\n",
              "      <td>https://open.spotify.com/track/2UW7JaomAMuX9pZ...</td>\n",
              "    </tr>\n",
              "    <tr>\n",
              "      <th>4</th>\n",
              "      <td>3</td>\n",
              "      <td>La Bebe - Remix</td>\n",
              "      <td>Yng Lvcas, Peso Pluma</td>\n",
              "      <td>29/05/2023</td>\n",
              "      <td>0.812</td>\n",
              "      <td>0.479</td>\n",
              "      <td>-5678.0</td>\n",
              "      <td>0.333</td>\n",
              "      <td>0.213</td>\n",
              "      <td>0.000</td>\n",
              "      <td>0.559</td>\n",
              "      <td>Artist 2</td>\n",
              "      <td>Peso Pluma</td>\n",
              "      <td>Nationality 2</td>\n",
              "      <td>Mexico</td>\n",
              "      <td>Latin-America</td>\n",
              "      <td>198</td>\n",
              "      <td>99.0</td>\n",
              "      <td>2UW7JaomAMuX9pZrjVpHAU</td>\n",
              "      <td>https://open.spotify.com/track/2UW7JaomAMuX9pZ...</td>\n",
              "    </tr>\n",
              "  </tbody>\n",
              "</table>\n",
              "</div>\n",
              "    <div class=\"colab-df-buttons\">\n",
              "\n",
              "  <div class=\"colab-df-container\">\n",
              "    <button class=\"colab-df-convert\" onclick=\"convertToInteractive('df-8ca6896d-ae7c-4388-845c-3f676b74f601')\"\n",
              "            title=\"Convert this dataframe to an interactive table.\"\n",
              "            style=\"display:none;\">\n",
              "\n",
              "  <svg xmlns=\"http://www.w3.org/2000/svg\" height=\"24px\" viewBox=\"0 -960 960 960\">\n",
              "    <path d=\"M120-120v-720h720v720H120Zm60-500h600v-160H180v160Zm220 220h160v-160H400v160Zm0 220h160v-160H400v160ZM180-400h160v-160H180v160Zm440 0h160v-160H620v160ZM180-180h160v-160H180v160Zm440 0h160v-160H620v160Z\"/>\n",
              "  </svg>\n",
              "    </button>\n",
              "\n",
              "  <style>\n",
              "    .colab-df-container {\n",
              "      display:flex;\n",
              "      gap: 12px;\n",
              "    }\n",
              "\n",
              "    .colab-df-convert {\n",
              "      background-color: #E8F0FE;\n",
              "      border: none;\n",
              "      border-radius: 50%;\n",
              "      cursor: pointer;\n",
              "      display: none;\n",
              "      fill: #1967D2;\n",
              "      height: 32px;\n",
              "      padding: 0 0 0 0;\n",
              "      width: 32px;\n",
              "    }\n",
              "\n",
              "    .colab-df-convert:hover {\n",
              "      background-color: #E2EBFA;\n",
              "      box-shadow: 0px 1px 2px rgba(60, 64, 67, 0.3), 0px 1px 3px 1px rgba(60, 64, 67, 0.15);\n",
              "      fill: #174EA6;\n",
              "    }\n",
              "\n",
              "    .colab-df-buttons div {\n",
              "      margin-bottom: 4px;\n",
              "    }\n",
              "\n",
              "    [theme=dark] .colab-df-convert {\n",
              "      background-color: #3B4455;\n",
              "      fill: #D2E3FC;\n",
              "    }\n",
              "\n",
              "    [theme=dark] .colab-df-convert:hover {\n",
              "      background-color: #434B5C;\n",
              "      box-shadow: 0px 1px 3px 1px rgba(0, 0, 0, 0.15);\n",
              "      filter: drop-shadow(0px 1px 2px rgba(0, 0, 0, 0.3));\n",
              "      fill: #FFFFFF;\n",
              "    }\n",
              "  </style>\n",
              "\n",
              "    <script>\n",
              "      const buttonEl =\n",
              "        document.querySelector('#df-8ca6896d-ae7c-4388-845c-3f676b74f601 button.colab-df-convert');\n",
              "      buttonEl.style.display =\n",
              "        google.colab.kernel.accessAllowed ? 'block' : 'none';\n",
              "\n",
              "      async function convertToInteractive(key) {\n",
              "        const element = document.querySelector('#df-8ca6896d-ae7c-4388-845c-3f676b74f601');\n",
              "        const dataTable =\n",
              "          await google.colab.kernel.invokeFunction('convertToInteractive',\n",
              "                                                    [key], {});\n",
              "        if (!dataTable) return;\n",
              "\n",
              "        const docLinkHtml = 'Like what you see? Visit the ' +\n",
              "          '<a target=\"_blank\" href=https://colab.research.google.com/notebooks/data_table.ipynb>data table notebook</a>'\n",
              "          + ' to learn more about interactive tables.';\n",
              "        element.innerHTML = '';\n",
              "        dataTable['output_type'] = 'display_data';\n",
              "        await google.colab.output.renderOutput(dataTable, element);\n",
              "        const docLink = document.createElement('div');\n",
              "        docLink.innerHTML = docLinkHtml;\n",
              "        element.appendChild(docLink);\n",
              "      }\n",
              "    </script>\n",
              "  </div>\n",
              "\n",
              "\n",
              "<div id=\"df-2e3c97cd-84c3-4d15-b4cf-e9494d1a8e10\">\n",
              "  <button class=\"colab-df-quickchart\" onclick=\"quickchart('df-2e3c97cd-84c3-4d15-b4cf-e9494d1a8e10')\"\n",
              "            title=\"Suggest charts\"\n",
              "            style=\"display:none;\">\n",
              "\n",
              "<svg xmlns=\"http://www.w3.org/2000/svg\" height=\"24px\"viewBox=\"0 0 24 24\"\n",
              "     width=\"24px\">\n",
              "    <g>\n",
              "        <path d=\"M19 3H5c-1.1 0-2 .9-2 2v14c0 1.1.9 2 2 2h14c1.1 0 2-.9 2-2V5c0-1.1-.9-2-2-2zM9 17H7v-7h2v7zm4 0h-2V7h2v10zm4 0h-2v-4h2v4z\"/>\n",
              "    </g>\n",
              "</svg>\n",
              "  </button>\n",
              "\n",
              "<style>\n",
              "  .colab-df-quickchart {\n",
              "      --bg-color: #E8F0FE;\n",
              "      --fill-color: #1967D2;\n",
              "      --hover-bg-color: #E2EBFA;\n",
              "      --hover-fill-color: #174EA6;\n",
              "      --disabled-fill-color: #AAA;\n",
              "      --disabled-bg-color: #DDD;\n",
              "  }\n",
              "\n",
              "  [theme=dark] .colab-df-quickchart {\n",
              "      --bg-color: #3B4455;\n",
              "      --fill-color: #D2E3FC;\n",
              "      --hover-bg-color: #434B5C;\n",
              "      --hover-fill-color: #FFFFFF;\n",
              "      --disabled-bg-color: #3B4455;\n",
              "      --disabled-fill-color: #666;\n",
              "  }\n",
              "\n",
              "  .colab-df-quickchart {\n",
              "    background-color: var(--bg-color);\n",
              "    border: none;\n",
              "    border-radius: 50%;\n",
              "    cursor: pointer;\n",
              "    display: none;\n",
              "    fill: var(--fill-color);\n",
              "    height: 32px;\n",
              "    padding: 0;\n",
              "    width: 32px;\n",
              "  }\n",
              "\n",
              "  .colab-df-quickchart:hover {\n",
              "    background-color: var(--hover-bg-color);\n",
              "    box-shadow: 0 1px 2px rgba(60, 64, 67, 0.3), 0 1px 3px 1px rgba(60, 64, 67, 0.15);\n",
              "    fill: var(--button-hover-fill-color);\n",
              "  }\n",
              "\n",
              "  .colab-df-quickchart-complete:disabled,\n",
              "  .colab-df-quickchart-complete:disabled:hover {\n",
              "    background-color: var(--disabled-bg-color);\n",
              "    fill: var(--disabled-fill-color);\n",
              "    box-shadow: none;\n",
              "  }\n",
              "\n",
              "  .colab-df-spinner {\n",
              "    border: 2px solid var(--fill-color);\n",
              "    border-color: transparent;\n",
              "    border-bottom-color: var(--fill-color);\n",
              "    animation:\n",
              "      spin 1s steps(1) infinite;\n",
              "  }\n",
              "\n",
              "  @keyframes spin {\n",
              "    0% {\n",
              "      border-color: transparent;\n",
              "      border-bottom-color: var(--fill-color);\n",
              "      border-left-color: var(--fill-color);\n",
              "    }\n",
              "    20% {\n",
              "      border-color: transparent;\n",
              "      border-left-color: var(--fill-color);\n",
              "      border-top-color: var(--fill-color);\n",
              "    }\n",
              "    30% {\n",
              "      border-color: transparent;\n",
              "      border-left-color: var(--fill-color);\n",
              "      border-top-color: var(--fill-color);\n",
              "      border-right-color: var(--fill-color);\n",
              "    }\n",
              "    40% {\n",
              "      border-color: transparent;\n",
              "      border-right-color: var(--fill-color);\n",
              "      border-top-color: var(--fill-color);\n",
              "    }\n",
              "    60% {\n",
              "      border-color: transparent;\n",
              "      border-right-color: var(--fill-color);\n",
              "    }\n",
              "    80% {\n",
              "      border-color: transparent;\n",
              "      border-right-color: var(--fill-color);\n",
              "      border-bottom-color: var(--fill-color);\n",
              "    }\n",
              "    90% {\n",
              "      border-color: transparent;\n",
              "      border-bottom-color: var(--fill-color);\n",
              "    }\n",
              "  }\n",
              "</style>\n",
              "\n",
              "  <script>\n",
              "    async function quickchart(key) {\n",
              "      const quickchartButtonEl =\n",
              "        document.querySelector('#' + key + ' button');\n",
              "      quickchartButtonEl.disabled = true;  // To prevent multiple clicks.\n",
              "      quickchartButtonEl.classList.add('colab-df-spinner');\n",
              "      try {\n",
              "        const charts = await google.colab.kernel.invokeFunction(\n",
              "            'suggestCharts', [key], {});\n",
              "      } catch (error) {\n",
              "        console.error('Error during call to suggestCharts:', error);\n",
              "      }\n",
              "      quickchartButtonEl.classList.remove('colab-df-spinner');\n",
              "      quickchartButtonEl.classList.add('colab-df-quickchart-complete');\n",
              "    }\n",
              "    (() => {\n",
              "      let quickchartButtonEl =\n",
              "        document.querySelector('#df-2e3c97cd-84c3-4d15-b4cf-e9494d1a8e10 button');\n",
              "      quickchartButtonEl.style.display =\n",
              "        google.colab.kernel.accessAllowed ? 'block' : 'none';\n",
              "    })();\n",
              "  </script>\n",
              "</div>\n",
              "    </div>\n",
              "  </div>\n"
            ]
          },
          "metadata": {},
          "execution_count": 42
        }
      ]
    },
    {
      "cell_type": "code",
      "source": [
        "df.info()"
      ],
      "metadata": {
        "colab": {
          "base_uri": "https://localhost:8080/"
        },
        "id": "YXGcu6mJCuk8",
        "outputId": "e9620900-1a72-4035-a239-54dcc6984bdb"
      },
      "execution_count": null,
      "outputs": [
        {
          "output_type": "stream",
          "name": "stdout",
          "text": [
            "<class 'pandas.core.frame.DataFrame'>\n",
            "RangeIndex: 69846 entries, 0 to 69845\n",
            "Data columns (total 20 columns):\n",
            " #   Column                            Non-Null Count  Dtype  \n",
            "---  ------                            --------------  -----  \n",
            " 0   Rank                              69846 non-null  int64  \n",
            " 1   Title                             69846 non-null  object \n",
            " 2   Artists                           69846 non-null  object \n",
            " 3   Date                              69846 non-null  object \n",
            " 4   Danceability                      69846 non-null  float64\n",
            " 5   Energy                            69846 non-null  float64\n",
            " 6   Loudness                          69846 non-null  float64\n",
            " 7   Speechiness                       69846 non-null  float64\n",
            " 8   Acousticness                      69846 non-null  float64\n",
            " 9   Instrumentalness                  69846 non-null  float64\n",
            " 10  Valence                           69846 non-null  float64\n",
            " 11  # of Artist                       69846 non-null  object \n",
            " 12  Artist (Ind.)                     69846 non-null  object \n",
            " 13  # of Nationality                  69846 non-null  object \n",
            " 14  Nationality                       69846 non-null  object \n",
            " 15  Continent                         69846 non-null  object \n",
            " 16  Points (Total)                    69846 non-null  int64  \n",
            " 17  Points (Ind for each Artist/Nat)  69846 non-null  float64\n",
            " 18  id                                69846 non-null  object \n",
            " 19  Song URL                          69846 non-null  object \n",
            "dtypes: float64(8), int64(2), object(10)\n",
            "memory usage: 10.7+ MB\n"
          ]
        }
      ]
    },
    {
      "cell_type": "code",
      "source": [
        "# data = df[[\"f_batterylife\", \"f_price\", \"f_size\", \"f_multitasking\", \"f_noise\", \"f_performance\", \"f_neural\", \"f_synergy\"]]\n",
        "data = df[[\"Danceability\", \"Energy\", \"Loudness\", \"Speechiness\", \"Acousticness\", \"Instrumentalness\", \"Valence\"]]\n",
        "data = data.values\n",
        "data.shape"
      ],
      "metadata": {
        "colab": {
          "base_uri": "https://localhost:8080/"
        },
        "id": "pjfYEjVvC2QE",
        "outputId": "5f7b15f8-d095-412d-be14-dc595840d69c"
      },
      "execution_count": null,
      "outputs": [
        {
          "output_type": "execute_result",
          "data": {
            "text/plain": [
              "(69846, 7)"
            ]
          },
          "metadata": {},
          "execution_count": 44
        }
      ]
    },
    {
      "cell_type": "code",
      "source": [
        "cov = np.cov(data.T)\n",
        "cov.shape"
      ],
      "metadata": {
        "colab": {
          "base_uri": "https://localhost:8080/"
        },
        "id": "rGiQTLIKDF8W",
        "outputId": "e3cd3828-cedd-492f-e2a4-99b074bec28f"
      },
      "execution_count": null,
      "outputs": [
        {
          "output_type": "execute_result",
          "data": {
            "text/plain": [
              "(7, 7)"
            ]
          },
          "metadata": {},
          "execution_count": 45
        }
      ]
    },
    {
      "cell_type": "code",
      "source": [
        "plt.figure(figsize=(5, 5))\n",
        "plt.imshow(cov)\n",
        "plt.show()"
      ],
      "metadata": {
        "colab": {
          "base_uri": "https://localhost:8080/",
          "height": 445
        },
        "id": "RHDbsqADDKTN",
        "outputId": "904f69c7-a549-4ec4-f6da-6551dcbdfd8c"
      },
      "execution_count": null,
      "outputs": [
        {
          "output_type": "display_data",
          "data": {
            "text/plain": [
              "<Figure size 500x500 with 1 Axes>"
            ],
            "image/png": "[encoded data removed]"
          },
          "metadata": {}
        }
      ]
    },
    {
      "cell_type": "code",
      "source": [
        "cov"
      ],
      "metadata": {
        "colab": {
          "base_uri": "https://localhost:8080/"
        },
        "id": "v7sOmKCjDRh7",
        "outputId": "19969aae-03e2-48bc-d572-265d26e4c5f5"
      },
      "execution_count": null,
      "outputs": [
        {
          "output_type": "execute_result",
          "data": {
            "text/plain": [
              "array([[ 2.02600106e-02,  4.89822405e-03,  1.17865887e+02,\n",
              "         2.42230202e-03, -6.53822223e-03, -3.40184584e-04,\n",
              "         1.45851875e-02],\n",
              "       [ 4.89822405e-03,  2.56526791e-02,  2.59998723e+02,\n",
              "        -6.04797120e-04, -2.10160754e-02, -2.29516094e-03,\n",
              "         1.39157252e-02],\n",
              "       [ 1.17865887e+02,  2.59998723e+02,  9.61028406e+06,\n",
              "         1.35444225e+01, -2.32584450e+02, -2.48838384e+01,\n",
              "         1.86470828e+02],\n",
              "       [ 2.42230202e-03, -6.04797120e-04,  1.35444225e+01,\n",
              "         8.08143582e-03, -1.26720707e-03, -1.02043753e-04,\n",
              "        -5.76701768e-04],\n",
              "       [-6.53822223e-03, -2.10160754e-02, -2.32584450e+02,\n",
              "        -1.26720707e-03,  5.95230224e-02,  3.08092860e-04,\n",
              "        -3.03542095e-03],\n",
              "       [-3.40184584e-04, -2.29516094e-03, -2.48838384e+01,\n",
              "        -1.02043753e-04,  3.08092860e-04,  7.32126144e-03,\n",
              "        -3.63375465e-03],\n",
              "       [ 1.45851875e-02,  1.39157252e-02,  1.86470828e+02,\n",
              "        -5.76701768e-04, -3.03542095e-03, -3.63375465e-03,\n",
              "         5.57303086e-02]])"
            ]
          },
          "metadata": {},
          "execution_count": 47
        }
      ]
    },
    {
      "cell_type": "code",
      "source": [
        "def outlier_thresholds(data):\n",
        "  avg = np.mean(data)\n",
        "  low = np.quantile(data, 0.01)\n",
        "  high = np.quantile(data, 0.99)\n",
        "  iqr = high - low\n",
        "  min = avg - 1.5*iqr\n",
        "  max = avg + 1.5*iqr\n",
        "  return min, max\n",
        "\n",
        "def remove_outliers(df):\n",
        "  columns = df.columns\n",
        "  for column in columns:\n",
        "    data = df[column]\n",
        "    min, max = outlier_thresholds(data)\n",
        "    df[df[column] < min] = None\n",
        "    df[df[column] > max] = None\n",
        "  df.dropna(inplace=True)\n",
        "  return df\n",
        "\n",
        "\n"
      ],
      "metadata": {
        "id": "NDgcGRifEHO8"
      },
      "execution_count": null,
      "outputs": []
    },
    {
      "cell_type": "code",
      "source": [
        "df1 = df[[\"Danceability\", \"Energy\", \"Loudness\", \"Speechiness\", \"Acousticness\", \"Instrumentalness\", \"Valence\"]]\n",
        "print(f\"Number of rows before eliminating outliers: {len(df1)}.\")\n",
        "df1 = remove_outliers(df1)\n",
        "print(f\"Number of rows after eliminating outliers: {len(df1)}.\")\n"
      ],
      "metadata": {
        "colab": {
          "base_uri": "https://localhost:8080/"
        },
        "id": "Q6rULr58LN8N",
        "outputId": "b578ff93-de87-42dd-cfeb-a9c7364bd908"
      },
      "execution_count": null,
      "outputs": [
        {
          "output_type": "stream",
          "name": "stdout",
          "text": [
            "Number of rows before eliminating outliers: 69846.\n",
            "Number of rows after eliminating outliers: 69683.\n"
          ]
        },
        {
          "output_type": "stream",
          "name": "stderr",
          "text": [
            "<ipython-input-48-051893ae5010>:15: SettingWithCopyWarning: \n",
            "A value is trying to be set on a copy of a slice from a DataFrame.\n",
            "Try using .loc[row_indexer,col_indexer] = value instead\n",
            "\n",
            "See the caveats in the documentation: https://pandas.pydata.org/pandas-docs/stable/user_guide/indexing.html#returning-a-view-versus-a-copy\n",
            "  df[df[column] < min] = None\n",
            "<ipython-input-48-051893ae5010>:16: SettingWithCopyWarning: \n",
            "A value is trying to be set on a copy of a slice from a DataFrame.\n",
            "Try using .loc[row_indexer,col_indexer] = value instead\n",
            "\n",
            "See the caveats in the documentation: https://pandas.pydata.org/pandas-docs/stable/user_guide/indexing.html#returning-a-view-versus-a-copy\n",
            "  df[df[column] > max] = None\n",
            "<ipython-input-48-051893ae5010>:17: SettingWithCopyWarning: \n",
            "A value is trying to be set on a copy of a slice from a DataFrame\n",
            "\n",
            "See the caveats in the documentation: https://pandas.pydata.org/pandas-docs/stable/user_guide/indexing.html#returning-a-view-versus-a-copy\n",
            "  df.dropna(inplace=True)\n"
          ]
        }
      ]
    },
    {
      "cell_type": "code",
      "source": [
        "def remove_cor_features(df):\n",
        "  columns = df.columns\n",
        "  corrs = np.zeros((len(columns), len(columns)))\n",
        "  for i in range(len(columns)):\n",
        "    for j in range(i+1, len(columns)):\n",
        "      cor = np.corrcoef(df[columns[i]], df[columns[j]])[0, 1]\n",
        "      corrs[i, j] = cor\n",
        "  return corrs\n"
      ],
      "metadata": {
        "id": "HpVTJMFSLVdK"
      },
      "execution_count": null,
      "outputs": []
    },
    {
      "cell_type": "code",
      "source": [
        "corr_coef = remove_cor_features(df1)"
      ],
      "metadata": {
        "id": "xlOLKBiTLYW6"
      },
      "execution_count": null,
      "outputs": []
    },
    {
      "cell_type": "code",
      "source": [
        "plt.figure(figsize=(5, 5))\n",
        "plt.imshow(corr_coef)\n",
        "plt.show()"
      ],
      "metadata": {
        "colab": {
          "base_uri": "https://localhost:8080/",
          "height": 445
        },
        "id": "TwIsKeOaM0DL",
        "outputId": "ddb849a9-18b4-4021-9da6-ae527141610f"
      },
      "execution_count": null,
      "outputs": [
        {
          "output_type": "display_data",
          "data": {
            "text/plain": [
              "<Figure size 500x500 with 1 Axes>"
            ],
            "image/png": "[encoded data removed]"
          },
          "metadata": {}
        }
      ]
    },
    {
      "cell_type": "code",
      "source": [
        "plt.figure(figsize=(5, 5))\n",
        "plt.scatter(df1[df1.columns[1]], df1[df1.columns[2]], s=100)\n",
        "plt.show()"
      ],
      "metadata": {
        "colab": {
          "base_uri": "https://localhost:8080/",
          "height": 445
        },
        "id": "6HRyb9pPOtwI",
        "outputId": "dc1c7722-48e7-4497-d4f9-4759a03e51aa"
      },
      "execution_count": null,
      "outputs": [
        {
          "output_type": "display_data",
          "data": {
            "text/plain": [
              "<Figure size 500x500 with 1 Axes>"
            ],
            "image/png": "[encoded data removed]"
          },
          "metadata": {}
        }
      ]
    },
    {
      "cell_type": "code",
      "source": [
        "print(corr_coef)"
      ],
      "metadata": {
        "colab": {
          "base_uri": "https://localhost:8080/"
        },
        "id": "T70zfcYfTeoo",
        "outputId": "a078a75e-1cfe-4f49-8d6a-091b1134c647"
      },
      "execution_count": null,
      "outputs": [
        {
          "output_type": "stream",
          "name": "stdout",
          "text": [
            "[[ 0.          0.2148171   0.26594003  0.18944205 -0.1875872  -0.01758551\n",
            "   0.43356066]\n",
            " [ 0.          0.          0.5266975  -0.04201332 -0.53813876 -0.19176648\n",
            "   0.36887486]\n",
            " [ 0.          0.          0.          0.0493052  -0.3056066  -0.04307227\n",
            "   0.24869852]\n",
            " [ 0.          0.          0.          0.         -0.05798101 -0.01752554\n",
            "  -0.02695501]\n",
            " [ 0.          0.          0.          0.          0.         -0.00445783\n",
            "  -0.05008218]\n",
            " [ 0.          0.          0.          0.          0.          0.\n",
            "  -0.16507272]\n",
            " [ 0.          0.          0.          0.          0.          0.\n",
            "   0.        ]]\n"
          ]
        }
      ]
    },
    {
      "cell_type": "code",
      "source": [
        "def min_max_scaler(data):\n",
        "  min = np.min(data)\n",
        "  max = np.max(data)\n",
        "  data = (data - min) / (max - min)\n",
        "  return data\n",
        "\n",
        "df1[df1.columns[1]] = min_max_scaler(df1[df1.columns[1]])\n",
        "df1[df1.columns[2]] = min_max_scaler(df1[df1.columns[2]])\n",
        "\n",
        "plt.figure(figsize=(5, 5))\n",
        "plt.scatter(df1[df1.columns[1]], df1[df1.columns[2]], s=100)\n",
        "plt.show()\n"
      ],
      "metadata": {
        "id": "CvupiSJYTjdX",
        "colab": {
          "base_uri": "https://localhost:8080/",
          "height": 683
        },
        "outputId": "8ab83dec-84bd-499d-b8b2-8a20e25a5d2a"
      },
      "execution_count": null,
      "outputs": [
        {
          "output_type": "stream",
          "name": "stderr",
          "text": [
            "<ipython-input-56-350d329afa3b>:7: SettingWithCopyWarning: \n",
            "A value is trying to be set on a copy of a slice from a DataFrame.\n",
            "Try using .loc[row_indexer,col_indexer] = value instead\n",
            "\n",
            "See the caveats in the documentation: https://pandas.pydata.org/pandas-docs/stable/user_guide/indexing.html#returning-a-view-versus-a-copy\n",
            "  df1[df1.columns[1]] = min_max_scaler(df1[df1.columns[1]])\n",
            "<ipython-input-56-350d329afa3b>:8: SettingWithCopyWarning: \n",
            "A value is trying to be set on a copy of a slice from a DataFrame.\n",
            "Try using .loc[row_indexer,col_indexer] = value instead\n",
            "\n",
            "See the caveats in the documentation: https://pandas.pydata.org/pandas-docs/stable/user_guide/indexing.html#returning-a-view-versus-a-copy\n",
            "  df1[df1.columns[2]] = min_max_scaler(df1[df1.columns[2]])\n"
          ]
        },
        {
          "output_type": "display_data",
          "data": {
            "text/plain": [
              "<Figure size 500x500 with 1 Axes>"
            ],
            "image/png": "[encoded data removed]"
          },
          "metadata": {}
        }
      ]
    },
    {
      "cell_type": "code",
      "source": [
        "def standard_scaler(data):\n",
        "  avg = np.mean(data)\n",
        "  std = np.std(data)\n",
        "  data = (data - avg) / std\n",
        "  return data\n",
        "\n",
        "df1[df1.columns[1]] = standard_scaler(df1[df1.columns[1]])\n",
        "df1[df1.columns[2]] = standard_scaler(df1[df1.columns[2]])\n",
        "\n",
        "plt.figure(figsize=(5, 5))\n",
        "plt.scatter(df1[df1.columns[1]], df1[df1.columns[2]], s=100)\n",
        "plt.show()"
      ],
      "metadata": {
        "colab": {
          "base_uri": "https://localhost:8080/",
          "height": 685
        },
        "id": "LWCB-xISVbyC",
        "outputId": "3fd6bd63-fd05-4a7e-b222-6508e13e2661"
      },
      "execution_count": null,
      "outputs": [
        {
          "output_type": "stream",
          "name": "stderr",
          "text": [
            "<ipython-input-57-2e09b3443c53>:7: SettingWithCopyWarning: \n",
            "A value is trying to be set on a copy of a slice from a DataFrame.\n",
            "Try using .loc[row_indexer,col_indexer] = value instead\n",
            "\n",
            "See the caveats in the documentation: https://pandas.pydata.org/pandas-docs/stable/user_guide/indexing.html#returning-a-view-versus-a-copy\n",
            "  df1[df1.columns[1]] = standard_scaler(df1[df1.columns[1]])\n",
            "<ipython-input-57-2e09b3443c53>:8: SettingWithCopyWarning: \n",
            "A value is trying to be set on a copy of a slice from a DataFrame.\n",
            "Try using .loc[row_indexer,col_indexer] = value instead\n",
            "\n",
            "See the caveats in the documentation: https://pandas.pydata.org/pandas-docs/stable/user_guide/indexing.html#returning-a-view-versus-a-copy\n",
            "  df1[df1.columns[2]] = standard_scaler(df1[df1.columns[2]])\n"
          ]
        },
        {
          "output_type": "display_data",
          "data": {
            "text/plain": [
              "<Figure size 500x500 with 1 Axes>"
            ],
            "image/png": "[encoded data removed]"
          },
          "metadata": {}
        }
      ]
    },
    {
      "cell_type": "code",
      "source": [],
      "metadata": {
        "id": "Y14mWlsrV4bj"
      },
      "execution_count": null,
      "outputs": []
    }
  ]
}