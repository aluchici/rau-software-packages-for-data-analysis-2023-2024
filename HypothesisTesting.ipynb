{
 "metadata": {
  "language_info": {
   "codemirror_mode": {
    "name": "ipython",
    "version": 3
   },
   "file_extension": ".py",
   "mimetype": "text/x-python",
   "name": "python",
   "nbconvert_exporter": "python",
   "pygments_lexer": "ipython3",
   "version": "3.8.16-final"
  },
  "orig_nbformat": 2,
  "kernelspec": {
   "name": "python3",
   "display_name": "Python 3.8.16 64-bit",
   "metadata": {
    "interpreter": {
     "hash": "fd4053dc5514d2ae9a0dcf163bb83dbf2335cfe5877b194bbc1ef31fc3dd5ade"
    }
   }
  }
 },
 "nbformat": 4,
 "nbformat_minor": 2,
 "cells": [
  {
   "cell_type": "code",
   "execution_count": 1,
   "metadata": {},
   "outputs": [],
   "source": [
    "import numpy as np \n",
    "from scipy import stats "
   ]
  },
  {
   "cell_type": "code",
   "execution_count": 8,
   "metadata": {},
   "outputs": [
    {
     "output_type": "execute_result",
     "data": {
      "text/plain": [
       "0.00043127693877551037"
      ]
     },
     "metadata": {},
     "execution_count": 8
    }
   ],
   "source": [
    "sample_data = [0.00660269, -0.01937299,  0.01532228,  0.0135591 , -0.01095909,\n",
    "        0.02529419, -0.01296866,  0.02121886, -0.00125701,  0.01858292,\n",
    "        0.00610551, -0.00260078,  0.01803568, -0.01124156, -0.01158524,\n",
    "        0.01266748,  0.00445719, -0.01259658, -0.00152223, -0.01560794,\n",
    "        0.00663712,  0.01692306, -0.09509399, -0.02651064, -0.00089958,\n",
    "        0.01874438, -0.00305317,  0.01910054,  0.0082246 ,  0.01262851,\n",
    "        0.00890778,  0.00552784,  0.00664271, -0.01213585,  0.01804354,\n",
    "       -0.00377102,  0.011583  ,  0.00748391,  0.01715939, -0.01183083,\n",
    "        0.00694703,  0.00528441,  0.01109735, -0.01299735, -0.00204842,\n",
    "        0.00579131, -0.01610781, -0.01822362, -0.00505545]\n",
    "sample_data = np.array(sample_data)\n",
    "sample_data.mean()"
   ]
  },
  {
   "cell_type": "code",
   "execution_count": 15,
   "metadata": {},
   "outputs": [],
   "source": [
    "population_mean = 0.0004\n",
    "population_std = 0.02 # this is an assumption for this example! "
   ]
  },
  {
   "cell_type": "code",
   "execution_count": 16,
   "metadata": {},
   "outputs": [],
   "source": [
    "z_score = (sample_data.mean() - population_mean) / (population_std / np.sqrt(len(sample_data)))"
   ]
  },
  {
   "cell_type": "code",
   "execution_count": 17,
   "metadata": {},
   "outputs": [],
   "source": [
    "p_value = 2 * (1 - stats.norm.cdf(abs(z_score)))"
   ]
  },
  {
   "cell_type": "code",
   "execution_count": 18,
   "metadata": {},
   "outputs": [
    {
     "output_type": "stream",
     "name": "stdout",
     "text": [
      "z_score=0.010946928571428621\np_value=0.9912657891493768\n"
     ]
    }
   ],
   "source": [
    "print(f\"{z_score=}\")\n",
    "print(f\"{p_value=}\")"
   ]
  },
  {
   "cell_type": "code",
   "execution_count": 19,
   "metadata": {},
   "outputs": [
    {
     "output_type": "stream",
     "name": "stdout",
     "text": [
      "t_statistic=0.01160410721940287\np_value=0.9907895667834015\n"
     ]
    }
   ],
   "source": [
    "t_statistic, p_value = stats.ttest_1samp(sample_data, population_mean)\n",
    "print(f\"{t_statistic=}\")\n",
    "print(f\"{p_value=}\")"
   ]
  },
  {
   "cell_type": "code",
   "execution_count": 22,
   "metadata": {},
   "outputs": [
    {
     "output_type": "execute_result",
     "data": {
      "text/plain": [
       "(0.0010123568, 0.00039351880000000015)"
      ]
     },
     "metadata": {},
     "execution_count": 22
    }
   ],
   "source": [
    "sample_data1 = [ 0.00706598, -0.00613935, -0.00713999, -0.0139787 , -0.02319103,\n",
    "        0.00687919,  0.01258125,  0.00559533,  0.05776946,  0.00100557,\n",
    "        0.02457502,  0.00105596, -0.00881554, -0.02409729,  0.00054519,\n",
    "       -0.00264692,  0.02669579, -0.0009884 , -0.01324194,  0.00023136,\n",
    "       -0.00100243,  0.01366166, -0.01180235, -0.00832179,  0.00947942,\n",
    "       -0.01893472,  0.00713946,  0.00553094,  0.02548802, -0.01956634,\n",
    "        0.00077058,  0.00870026,  0.0271736 ,  0.00973469,  0.00213419,\n",
    "       -0.00374528,  0.00081086, -0.00964865,  0.00594963,  0.00828043,\n",
    "        0.00395948, -0.0115396 ,  0.01012273,  0.0101675 , -0.00506888,\n",
    "        0.00589529, -0.00123011, -0.0311503 , -0.02467476, -0.00145663]\n",
    "sample_data1 = np.array(sample_data1)\n",
    "\n",
    "sample_data2 = [0.00660269, -0.01937299,  0.01532228,  0.0135591 , -0.01095909,\n",
    "        0.02529419, -0.01296866,  0.02121886, -0.00125701,  0.01858292,\n",
    "        0.00610551, -0.00260078,  0.01803568, -0.01124156, -0.01158524,\n",
    "        0.01266748,  0.00445719, -0.01259658, -0.00152223, -0.01560794,\n",
    "        0.00663712,  0.01692306, -0.09509399, -0.02651064, -0.00089958,\n",
    "        0.01874438, -0.00305317,  0.01910054,  0.0082246 ,  0.01262851,\n",
    "        0.00890778,  0.00552784,  0.00664271, -0.01213585,  0.01804354,\n",
    "       -0.00377102,  0.011583  ,  0.00748391,  0.01715939, -0.01183083,\n",
    "        0.00694703,  0.00528441,  0.01109735, -0.01299735, -0.00204842,\n",
    "        0.00579131, -0.01610781, -0.01822362, -0.00505545, -0.00145663]\n",
    "sample_data2 = np.array(sample_data2)\n",
    "\n",
    "sample_data1.mean(), sample_data2.mean()"
   ]
  },
  {
   "cell_type": "code",
   "execution_count": 23,
   "metadata": {},
   "outputs": [
    {
     "output_type": "stream",
     "name": "stdout",
     "text": [
      "t_statistic=0.19978845281948354\np_value=0.8424728620557481\n"
     ]
    }
   ],
   "source": [
    "t_statistic, p_value = stats.ttest_rel(sample_data1, sample_data2)\n",
    "print(f\"{t_statistic=}\")\n",
    "print(f\"{p_value=}\")"
   ]
  },
  {
   "cell_type": "code",
   "execution_count": null,
   "metadata": {},
   "outputs": [],
   "source": []
  }
 ]
}