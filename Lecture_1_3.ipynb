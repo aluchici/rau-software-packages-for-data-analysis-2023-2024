{
  "nbformat": 4,
  "nbformat_minor": 0,
  "metadata": {
    "colab": {
      "provenance": []
    },
    "kernelspec": {
      "name": "python3",
      "display_name": "Python 3"
    },
    "language_info": {
      "name": "python"
    }
  },
  "cells": [
    {
      "cell_type": "markdown",
      "source": [
        "The cell below contains examples of how to declare different primitive data types in Python."
      ],
      "metadata": {
        "id": "7fENhCNYt9rU"
      }
    },
    {
      "cell_type": "code",
      "execution_count": null,
      "metadata": {
        "id": "mLURjHAam7du"
      },
      "outputs": [],
      "source": [
        "variable1 = 10\n",
        "variable2 = 3.14\n",
        "variable3 = True # False\n",
        "variable4 = \"this is a string\"\n",
        "variable5 = 'this is another string'\n",
        "variable6 = \"\"\"this is a\n",
        "multiline string\"\"\"\n",
        "variable7 = '''this is another\n",
        "multiline string'''\n",
        "variable8 = f\"this is a string where I can insert a value, {variable2}\"\n",
        "variable9 = None"
      ]
    },
    {
      "cell_type": "code",
      "source": [
        "print(variable6)"
      ],
      "metadata": {
        "colab": {
          "base_uri": "https://localhost:8080/"
        },
        "id": "uOPbWuFztBQV",
        "outputId": "83f5f579-582a-4edb-9185-cbd6424f30b7"
      },
      "execution_count": null,
      "outputs": [
        {
          "output_type": "stream",
          "name": "stdout",
          "text": [
            "this is a \n",
            "multiline string\n"
          ]
        }
      ]
    },
    {
      "cell_type": "code",
      "source": [
        "print(variable8)"
      ],
      "metadata": {
        "colab": {
          "base_uri": "https://localhost:8080/"
        },
        "id": "PJEfu2TutDqE",
        "outputId": "03163e33-d8bf-445d-d3bb-a32cfdea1067"
      },
      "execution_count": null,
      "outputs": [
        {
          "output_type": "stream",
          "name": "stdout",
          "text": [
            "this is a string where I can insert a value, 3.14\n"
          ]
        }
      ]
    },
    {
      "cell_type": "code",
      "source": [
        "li = [10, 12, 15.4, variable1, variable2, variable3]\n",
        "li[0], li[3]"
      ],
      "metadata": {
        "colab": {
          "base_uri": "https://localhost:8080/"
        },
        "id": "lXuYbwvMyrOQ",
        "outputId": "fdea9a4e-d373-4c73-8d24-41142d471e31"
      },
      "execution_count": null,
      "outputs": [
        {
          "output_type": "execute_result",
          "data": {
            "text/plain": [
              "(10, 10)"
            ]
          },
          "metadata": {},
          "execution_count": 116
        }
      ]
    },
    {
      "cell_type": "code",
      "source": [
        "li[3] = variable5\n",
        "li"
      ],
      "metadata": {
        "colab": {
          "base_uri": "https://localhost:8080/"
        },
        "id": "k0MhQIuazmJ_",
        "outputId": "efb7acb8-aa75-450a-87d4-aa1c378bd731"
      },
      "execution_count": null,
      "outputs": [
        {
          "output_type": "execute_result",
          "data": {
            "text/plain": [
              "[10, 12, 15.4, 'this is another string', 3.14, True]"
            ]
          },
          "metadata": {},
          "execution_count": 117
        }
      ]
    },
    {
      "cell_type": "code",
      "source": [
        "ti = (10, 12, 15.4, variable1)\n",
        "ti"
      ],
      "metadata": {
        "colab": {
          "base_uri": "https://localhost:8080/"
        },
        "id": "h_aD-fE_zzX-",
        "outputId": "c530e380-1fec-4a98-8088-9831f95cd397"
      },
      "execution_count": null,
      "outputs": [
        {
          "output_type": "execute_result",
          "data": {
            "text/plain": [
              "(10, 12, 15.4, 10)"
            ]
          },
          "metadata": {},
          "execution_count": 118
        }
      ]
    },
    {
      "cell_type": "code",
      "source": [
        "ti[3]"
      ],
      "metadata": {
        "colab": {
          "base_uri": "https://localhost:8080/"
        },
        "id": "8O7MuAc90QN-",
        "outputId": "ebebc55a-79e5-4a35-8db7-f6cfec222e4c"
      },
      "execution_count": null,
      "outputs": [
        {
          "output_type": "execute_result",
          "data": {
            "text/plain": [
              "10"
            ]
          },
          "metadata": {},
          "execution_count": 119
        }
      ]
    },
    {
      "cell_type": "code",
      "source": [
        "li2 = li\n",
        "li2[0] = -1\n",
        "li2, li"
      ],
      "metadata": {
        "colab": {
          "base_uri": "https://localhost:8080/"
        },
        "id": "4c8-VOm60UCO",
        "outputId": "f5b835c0-2c7f-4673-b5dd-793f3df66c06"
      },
      "execution_count": null,
      "outputs": [
        {
          "output_type": "execute_result",
          "data": {
            "text/plain": [
              "([-1, 12, 15.4, 'this is another string', 3.14, True],\n",
              " [-1, 12, 15.4, 'this is another string', 3.14, True])"
            ]
          },
          "metadata": {},
          "execution_count": 120
        }
      ]
    },
    {
      "cell_type": "code",
      "source": [
        "li2 = list(li)\n",
        "li2[0] = -1\n",
        "li2, li"
      ],
      "metadata": {
        "colab": {
          "base_uri": "https://localhost:8080/"
        },
        "id": "v5djUgzh0vzE",
        "outputId": "e188dfc9-1516-49bc-fafc-a7cf2c776bfb"
      },
      "execution_count": null,
      "outputs": [
        {
          "output_type": "execute_result",
          "data": {
            "text/plain": [
              "([-1, 12, 15.4, 'this is another string', 3.14, True],\n",
              " [-1, 12, 15.4, 'this is another string', 3.14, True])"
            ]
          },
          "metadata": {},
          "execution_count": 121
        }
      ]
    },
    {
      "cell_type": "code",
      "source": [
        "s1 = set([1, 1, 1, 1, 2, 2, 2, 2, 3, 3, 3, 4])\n",
        "s1"
      ],
      "metadata": {
        "colab": {
          "base_uri": "https://localhost:8080/"
        },
        "id": "KONxIXFd1In9",
        "outputId": "fe8a689f-706c-4419-d53b-5c8d86e11f46"
      },
      "execution_count": null,
      "outputs": [
        {
          "output_type": "execute_result",
          "data": {
            "text/plain": [
              "{1, 2, 3, 4}"
            ]
          },
          "metadata": {},
          "execution_count": 122
        }
      ]
    },
    {
      "cell_type": "code",
      "source": [
        "s2 = set([1, 1, 2, 2, 10, 10])\n",
        "s2"
      ],
      "metadata": {
        "colab": {
          "base_uri": "https://localhost:8080/"
        },
        "id": "s0LOuJzH1e81",
        "outputId": "42be82e9-3042-480b-a4ef-57913359230d"
      },
      "execution_count": null,
      "outputs": [
        {
          "output_type": "execute_result",
          "data": {
            "text/plain": [
              "{1, 2, 10}"
            ]
          },
          "metadata": {},
          "execution_count": 123
        }
      ]
    },
    {
      "cell_type": "code",
      "source": [
        "s1.difference(s2)"
      ],
      "metadata": {
        "colab": {
          "base_uri": "https://localhost:8080/"
        },
        "id": "-77phxeQ1ku-",
        "outputId": "e235a034-979b-400b-9e48-90ae1c3b688f"
      },
      "execution_count": null,
      "outputs": [
        {
          "output_type": "execute_result",
          "data": {
            "text/plain": [
              "{3, 4}"
            ]
          },
          "metadata": {},
          "execution_count": 124
        }
      ]
    },
    {
      "cell_type": "code",
      "source": [
        "s1.intersection(s2)"
      ],
      "metadata": {
        "colab": {
          "base_uri": "https://localhost:8080/"
        },
        "id": "Xfb-Izww1pKd",
        "outputId": "1414461e-d478-49c4-875a-b5533b3e0fe5"
      },
      "execution_count": null,
      "outputs": [
        {
          "output_type": "execute_result",
          "data": {
            "text/plain": [
              "{1, 2}"
            ]
          },
          "metadata": {},
          "execution_count": 125
        }
      ]
    },
    {
      "cell_type": "code",
      "source": [
        "s1.union(s2)"
      ],
      "metadata": {
        "colab": {
          "base_uri": "https://localhost:8080/"
        },
        "id": "Vu3-5Do21sc2",
        "outputId": "e95e2911-a049-46e6-b93a-56b00d77af75"
      },
      "execution_count": null,
      "outputs": [
        {
          "output_type": "execute_result",
          "data": {
            "text/plain": [
              "{1, 2, 3, 4, 10}"
            ]
          },
          "metadata": {},
          "execution_count": 126
        }
      ]
    },
    {
      "cell_type": "code",
      "source": [
        "d1 = {\n",
        "    \"value1\": 10,\n",
        "    \"value2\": [1, 2, 3, 4],\n",
        "    \"value3\": s1,\n",
        "    \"value4\": {\n",
        "        \"value5\": s2\n",
        "    }\n",
        "}\n",
        "d1"
      ],
      "metadata": {
        "colab": {
          "base_uri": "https://localhost:8080/"
        },
        "id": "1klo7YzO1vA9",
        "outputId": "7507f219-44f7-4ea2-d556-8c793663d97b"
      },
      "execution_count": null,
      "outputs": [
        {
          "output_type": "execute_result",
          "data": {
            "text/plain": [
              "{'value1': 10,\n",
              " 'value2': [1, 2, 3, 4],\n",
              " 'value3': {1, 2, 3, 4},\n",
              " 'value4': {'value5': {1, 2, 10}}}"
            ]
          },
          "metadata": {},
          "execution_count": 127
        }
      ]
    },
    {
      "cell_type": "code",
      "source": [
        "d1[\"value1\"]"
      ],
      "metadata": {
        "colab": {
          "base_uri": "https://localhost:8080/"
        },
        "id": "Kjsxt9bs2TrH",
        "outputId": "ad522836-cd88-470f-f683-478274777a72"
      },
      "execution_count": null,
      "outputs": [
        {
          "output_type": "execute_result",
          "data": {
            "text/plain": [
              "10"
            ]
          },
          "metadata": {},
          "execution_count": 128
        }
      ]
    },
    {
      "cell_type": "code",
      "source": [
        "d1[\"value1\"] = 20\n",
        "d1"
      ],
      "metadata": {
        "colab": {
          "base_uri": "https://localhost:8080/"
        },
        "id": "VomPsJ5h2bDu",
        "outputId": "76bed832-1c8a-4ce8-8c53-c70c006b7024"
      },
      "execution_count": null,
      "outputs": [
        {
          "output_type": "execute_result",
          "data": {
            "text/plain": [
              "{'value1': 20,\n",
              " 'value2': [1, 2, 3, 4],\n",
              " 'value3': {1, 2, 3, 4},\n",
              " 'value4': {'value5': {1, 2, 10}}}"
            ]
          },
          "metadata": {},
          "execution_count": 129
        }
      ]
    },
    {
      "cell_type": "code",
      "source": [
        "d1[\"value2\"]"
      ],
      "metadata": {
        "colab": {
          "base_uri": "https://localhost:8080/"
        },
        "id": "G4PRieOQ2dNW",
        "outputId": "95a3f055-62e3-427c-bf61-3eace95c4a21"
      },
      "execution_count": null,
      "outputs": [
        {
          "output_type": "execute_result",
          "data": {
            "text/plain": [
              "[1, 2, 3, 4]"
            ]
          },
          "metadata": {},
          "execution_count": 130
        }
      ]
    },
    {
      "cell_type": "code",
      "source": [
        "d1[\"value2\"][1]"
      ],
      "metadata": {
        "colab": {
          "base_uri": "https://localhost:8080/"
        },
        "id": "PF5lNntx2i2E",
        "outputId": "bc2d9c6b-e38d-4c14-c831-da748a4c9f62"
      },
      "execution_count": null,
      "outputs": [
        {
          "output_type": "execute_result",
          "data": {
            "text/plain": [
              "2"
            ]
          },
          "metadata": {},
          "execution_count": 131
        }
      ]
    },
    {
      "cell_type": "code",
      "source": [
        "li3 = [\n",
        "    {\n",
        "        \"value1\": 10,\n",
        "        \"value2\": 20\n",
        "    },\n",
        "    {\n",
        "        \"value1\": 15,\n",
        "        \"value2\": 25\n",
        "    }\n",
        "]\n",
        "li3"
      ],
      "metadata": {
        "colab": {
          "base_uri": "https://localhost:8080/"
        },
        "id": "9Nl97IYu2q_k",
        "outputId": "d204aaf5-2b36-4a5c-e214-e348644556d0"
      },
      "execution_count": null,
      "outputs": [
        {
          "output_type": "execute_result",
          "data": {
            "text/plain": [
              "[{'value1': 10, 'value2': 20}, {'value1': 15, 'value2': 25}]"
            ]
          },
          "metadata": {},
          "execution_count": 132
        }
      ]
    },
    {
      "cell_type": "code",
      "source": [
        "li3[0][\"value1\"]"
      ],
      "metadata": {
        "colab": {
          "base_uri": "https://localhost:8080/"
        },
        "id": "ncRvx71W28d0",
        "outputId": "16b527f4-9c2a-4895-e352-bb7160a814be"
      },
      "execution_count": null,
      "outputs": [
        {
          "output_type": "execute_result",
          "data": {
            "text/plain": [
              "10"
            ]
          },
          "metadata": {},
          "execution_count": 133
        }
      ]
    },
    {
      "cell_type": "code",
      "source": [
        "# if condition1:\n",
        "#   ...\n",
        "# elif condition2:\n",
        "#   ...\n",
        "# else:\n",
        "#   ...\n",
        "\n",
        "# for iterated_value in interator:\n",
        "#   ...\n",
        "\n",
        "# while condition:\n",
        "#   ...\n",
        "\n",
        "# def function_name(param1, param2, param3=10):\n",
        "#   body of the function\n",
        "#   return value\n",
        "\n",
        "# def function_name(*argv, **kwargs):\n",
        "#   body\n",
        "#   return value"
      ],
      "metadata": {
        "id": "M7Szly7q3Tgc"
      },
      "execution_count": null,
      "outputs": []
    },
    {
      "cell_type": "code",
      "source": [
        "def average(*argv):\n",
        "  if len(argv) == 0:\n",
        "    return None\n",
        "\n",
        "  avg = 0\n",
        "  for value in argv:\n",
        "    avg = avg + value\n",
        "  avg = avg / len(argv)\n",
        "  return avg\n",
        "\n",
        "average(1, 2), average(1, 3, 4, 5, 6, 7, 8, 9, 2, 2,), average()"
      ],
      "metadata": {
        "colab": {
          "base_uri": "https://localhost:8080/"
        },
        "id": "IDJUOZid49ky",
        "outputId": "2267eda4-f958-474b-94a9-43d353d70b1b"
      },
      "execution_count": null,
      "outputs": [
        {
          "output_type": "execute_result",
          "data": {
            "text/plain": [
              "(1.5, 4.7, None)"
            ]
          },
          "metadata": {},
          "execution_count": 135
        }
      ]
    },
    {
      "cell_type": "code",
      "source": [
        "def concatenate_strings(**kwargs):\n",
        "  values = kwargs.values()\n",
        "  result = \"\".join(values)\n",
        "  return result\n",
        "\n",
        "concatenate_strings(first=\"abc\", second=\"def\", third=\"ghi\")"
      ],
      "metadata": {
        "colab": {
          "base_uri": "https://localhost:8080/",
          "height": 36
        },
        "id": "HYrRWm7y5coj",
        "outputId": "a35e139c-3de1-495d-9c90-6be7d448bf74"
      },
      "execution_count": null,
      "outputs": [
        {
          "output_type": "execute_result",
          "data": {
            "text/plain": [
              "'abcdefghi'"
            ],
            "application/vnd.google.colaboratory.intrinsic+json": {
              "type": "string"
            }
          },
          "metadata": {},
          "execution_count": 136
        }
      ]
    },
    {
      "cell_type": "code",
      "source": [
        "def sum(a, b):\n",
        "  return a + b\n",
        "\n",
        "sum(10, 10)"
      ],
      "metadata": {
        "colab": {
          "base_uri": "https://localhost:8080/"
        },
        "id": "_uWCT_1C6M1Z",
        "outputId": "81de7f81-1a00-4838-8cca-4382662e29fd"
      },
      "execution_count": null,
      "outputs": [
        {
          "output_type": "execute_result",
          "data": {
            "text/plain": [
              "20"
            ]
          },
          "metadata": {},
          "execution_count": 137
        }
      ]
    },
    {
      "cell_type": "code",
      "source": [
        "sum(a=10, b=10)"
      ],
      "metadata": {
        "colab": {
          "base_uri": "https://localhost:8080/"
        },
        "id": "C2_dM6L26YRh",
        "outputId": "1e213451-4f1e-4702-8b00-44f174554470"
      },
      "execution_count": null,
      "outputs": [
        {
          "output_type": "execute_result",
          "data": {
            "text/plain": [
              "20"
            ]
          },
          "metadata": {},
          "execution_count": 138
        }
      ]
    },
    {
      "cell_type": "code",
      "source": [
        "sum(b=20, a=20)"
      ],
      "metadata": {
        "colab": {
          "base_uri": "https://localhost:8080/"
        },
        "id": "Iabmb5Hk6aRZ",
        "outputId": "00bf4a11-22e5-4535-8164-ff3d6e3a7666"
      },
      "execution_count": null,
      "outputs": [
        {
          "output_type": "execute_result",
          "data": {
            "text/plain": [
              "40"
            ]
          },
          "metadata": {},
          "execution_count": 139
        }
      ]
    },
    {
      "cell_type": "code",
      "source": [
        "# create a program that\n",
        "# 1. finds out how many elements are duplicated in a table\n",
        "# 2. computes the average value for a givent column\n",
        "# 3. finds out how many elements are None in a given column of a table\n",
        "# 4. replaces None elements for a given column with -1\n",
        "\n",
        "data = [\n",
        "    [1, 2, 3, None, 5],\n",
        "    [5, None, 3, None, 1],\n",
        "    [4, 4, 4, 3, None],\n",
        "    [4, 4, 3, 3, None],\n",
        "    [None, 2, 3, 1, None]\n",
        "  ]\n",
        "data"
      ],
      "metadata": {
        "colab": {
          "base_uri": "https://localhost:8080/"
        },
        "id": "FTcUEbwi6cCs",
        "outputId": "91a915f7-b5da-4f07-c9fb-fe73c506e78a"
      },
      "execution_count": null,
      "outputs": [
        {
          "output_type": "execute_result",
          "data": {
            "text/plain": [
              "[[1, 2, 3, None, 5],\n",
              " [5, None, 3, None, 1],\n",
              " [4, 4, 4, 3, None],\n",
              " [4, 4, 3, 3, None],\n",
              " [None, 2, 3, 1, None]]"
            ]
          },
          "metadata": {},
          "execution_count": 140
        }
      ]
    },
    {
      "cell_type": "code",
      "source": [
        "def count_nones(input, column_index=0):\n",
        "  n_nones = 0\n",
        "  n_rows = len(input)\n",
        "  n_cols = len(input[0])\n",
        "\n",
        "  if n_cols-1 < column_index:\n",
        "    raise Exception(\"Invalid column index.\")\n",
        "\n",
        "  for row in input:\n",
        "    if row[column_index] is None:\n",
        "      n_nones = n_nones + 1\n",
        "  return n_nones\n",
        "\n",
        "count_nones(data, 2), count_nones(data, 0)"
      ],
      "metadata": {
        "colab": {
          "base_uri": "https://localhost:8080/"
        },
        "id": "-TqqdVgG8nMC",
        "outputId": "43985dd8-e281-4347-8673-31ad553ec680"
      },
      "execution_count": null,
      "outputs": [
        {
          "output_type": "execute_result",
          "data": {
            "text/plain": [
              "(0, 1)"
            ]
          },
          "metadata": {},
          "execution_count": 141
        }
      ]
    },
    {
      "cell_type": "code",
      "source": [
        "def replace_nones(input, column_index):\n",
        "  n_rows = len(input)\n",
        "\n",
        "  for i in range(n_rows):\n",
        "    if input[i][column_index] is None:\n",
        "      input[i][column_index] = -1\n",
        "\n",
        "  return input\n",
        "\n"
      ],
      "metadata": {
        "id": "KsB3SP6F-IEe"
      },
      "execution_count": null,
      "outputs": []
    },
    {
      "cell_type": "code",
      "source": [
        "def column_average(input, column_index):\n",
        "  n_rows = len(input)\n",
        "  avg = 0\n",
        "  for row in input:\n",
        "    avg += row[column_index]\n",
        "  avg = avg / n_rows\n",
        "  return avg"
      ],
      "metadata": {
        "id": "OiYcsHrg_JN2"
      },
      "execution_count": null,
      "outputs": []
    },
    {
      "cell_type": "code",
      "source": [
        "data = [\n",
        "    [None, 2, 3, None, 5],\n",
        "    [5, None, None, None, 1],\n",
        "    [4, 4, 4, 3, None],\n",
        "    [4, 4, 3, 3, None],\n",
        "    [None, 2, 3, 1, None]\n",
        "  ]\n",
        "\n",
        "data = replace_nones(data, 2)\n",
        "data = replace_nones(data, 0)\n",
        "column_average(data, 2), column_average(data, 0)"
      ],
      "metadata": {
        "colab": {
          "base_uri": "https://localhost:8080/"
        },
        "id": "IE2A6JnN_2eW",
        "outputId": "dedd771d-b77d-4108-ef83-3eaa0601c84d"
      },
      "execution_count": null,
      "outputs": [
        {
          "output_type": "execute_result",
          "data": {
            "text/plain": [
              "(2.4, 2.2)"
            ]
          },
          "metadata": {},
          "execution_count": 144
        }
      ]
    },
    {
      "cell_type": "code",
      "source": [
        "class TableProcessor:\n",
        "  def __init__(self, data):\n",
        "    self.n_rows = len(data)\n",
        "    self.table = []\n",
        "\n",
        "    if self.n_rows != 0:\n",
        "      for row in data:\n",
        "        self.table.append(list(row))\n",
        "\n",
        "      self.n_cols = len(self.table[0])\n",
        "    else:\n",
        "      self.n_cols = 0\n",
        "\n",
        "  def count_nones(self, column_index=0):\n",
        "    n_nones = 0\n",
        "\n",
        "    if self.n_cols-1 < column_index:\n",
        "      raise Exception(\"Invalid column index.\")\n",
        "\n",
        "    for row in self.table:\n",
        "      if row[column_index] is None:\n",
        "        n_nones = n_nones + 1\n",
        "    return n_nones\n",
        "\n",
        "  def replace_nones(self, column_index=0):\n",
        "    for i in range(self.n_rows):\n",
        "      if self.table[i][column_index] is None:\n",
        "        self.table[i][column_index] = -1\n",
        "\n",
        "  def column_average(self, column_index=0):\n",
        "    avg = 0\n",
        "    for row in self.table:\n",
        "      avg += row[column_index]\n",
        "    avg = avg / self.n_rows\n",
        "    return avg"
      ],
      "metadata": {
        "id": "eAQO0cLrBH7U"
      },
      "execution_count": null,
      "outputs": []
    },
    {
      "cell_type": "code",
      "source": [
        "processor = TableProcessor(data)\n",
        "processor.n_rows, processor.n_cols"
      ],
      "metadata": {
        "colab": {
          "base_uri": "https://localhost:8080/"
        },
        "id": "3UpJOD-wKQHd",
        "outputId": "de42eaa4-3d4f-44ad-e69b-a9ec0c998234"
      },
      "execution_count": null,
      "outputs": [
        {
          "output_type": "execute_result",
          "data": {
            "text/plain": [
              "(5, 5)"
            ]
          },
          "metadata": {},
          "execution_count": 146
        }
      ]
    },
    {
      "cell_type": "code",
      "source": [
        "for i in range(processor.n_cols):\n",
        "  n_nones = processor.count_nones(column_index=i)\n",
        "  print(f\"Column {i} has {n_nones} None values.\")\n"
      ],
      "metadata": {
        "colab": {
          "base_uri": "https://localhost:8080/"
        },
        "id": "RvGurCPpKW6-",
        "outputId": "34ba3f26-190f-42a0-d47c-cf48b698fed9"
      },
      "execution_count": null,
      "outputs": [
        {
          "output_type": "stream",
          "name": "stdout",
          "text": [
            "Column 0 has 0 None values.\n",
            "Column 1 has 1 None values.\n",
            "Column 2 has 0 None values.\n",
            "Column 3 has 2 None values.\n",
            "Column 4 has 3 None values.\n"
          ]
        }
      ]
    },
    {
      "cell_type": "code",
      "source": [
        "for i in range(processor.n_cols):\n",
        "  processor.replace_nones(column_index=i)\n",
        "  avg = processor.column_average(column_index=i)\n",
        "  print(f\"Column {i} average = {avg}\")"
      ],
      "metadata": {
        "colab": {
          "base_uri": "https://localhost:8080/"
        },
        "id": "rDdN5_o2MtFL",
        "outputId": "765552ad-cf4c-44d8-aeec-4f1170b3ccc6"
      },
      "execution_count": null,
      "outputs": [
        {
          "output_type": "stream",
          "name": "stdout",
          "text": [
            "Column 0 average = 2.2\n",
            "Column 1 average = 2.2\n",
            "Column 2 average = 2.4\n",
            "Column 3 average = 1.0\n",
            "Column 4 average = 0.6\n"
          ]
        }
      ]
    },
    {
      "cell_type": "code",
      "source": [
        "class EnhancedTableProcessor(TableProcessor):\n",
        "  def __init__(self, data):\n",
        "    super().__init__(data)\n",
        "    self.nones_per_column = []\n",
        "    self.avg_per_column = []\n",
        "\n",
        "  def count_nones_per_column(self):\n",
        "    self.nones_per_column = []\n",
        "    for i in range(self.n_cols):\n",
        "      n_nones = self.count_nones(column_index=i)\n",
        "      self.nones_per_column.append(n_nones)\n",
        "\n",
        "  def compute_avg_per_column(self):\n",
        "    for i in range(self.n_cols):\n",
        "      self.replace_nones(column_index=i)\n",
        "      avg = self.column_average(column_index=i)\n",
        "      self.avg_per_column.append(avg)"
      ],
      "metadata": {
        "id": "Z-l081zkNDwS"
      },
      "execution_count": null,
      "outputs": []
    },
    {
      "cell_type": "code",
      "source": [
        "processor.table"
      ],
      "metadata": {
        "colab": {
          "base_uri": "https://localhost:8080/"
        },
        "id": "VmUSrAcbQHu6",
        "outputId": "f87a1c5d-5738-428b-f1ed-f1d61570c845"
      },
      "execution_count": null,
      "outputs": [
        {
          "output_type": "execute_result",
          "data": {
            "text/plain": [
              "[[-1, 2, 3, -1, 5],\n",
              " [5, -1, -1, -1, 1],\n",
              " [4, 4, 4, 3, -1],\n",
              " [4, 4, 3, 3, -1],\n",
              " [-1, 2, 3, 1, -1]]"
            ]
          },
          "metadata": {},
          "execution_count": 150
        }
      ]
    },
    {
      "cell_type": "code",
      "source": [
        "# data = [\n",
        "#     [1, None, 2, 3, None, 5],\n",
        "#     [1, 5, None, None, None, 1],\n",
        "#     [1, 4, 4, 4, 3, None],\n",
        "#     [1, 4, 4, 3, 3, None],\n",
        "#     [1, None, 2, 3, 1, None]\n",
        "#   ]\n",
        "\n",
        "enhanced_processor = EnhancedTableProcessor(data)\n",
        "enhanced_processor.count_nones_per_column()\n",
        "enhanced_processor.compute_avg_per_column()\n",
        "enhanced_processor.nones_per_column, enhanced_processor.avg_per_column"
      ],
      "metadata": {
        "colab": {
          "base_uri": "https://localhost:8080/"
        },
        "id": "8JflGXORN72K",
        "outputId": "30f68ac2-1c46-42e3-8cab-36ed0f019ba4"
      },
      "execution_count": null,
      "outputs": [
        {
          "output_type": "execute_result",
          "data": {
            "text/plain": [
              "([0, 1, 0, 2, 3], [2.2, 2.2, 2.4, 1.0, 0.6])"
            ]
          },
          "metadata": {},
          "execution_count": 152
        }
      ]
    },
    {
      "cell_type": "code",
      "source": [],
      "metadata": {
        "id": "PUZq1bBZO-Yg"
      },
      "execution_count": null,
      "outputs": []
    }
  ]
}